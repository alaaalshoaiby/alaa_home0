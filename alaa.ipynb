{
  "nbformat": 4,
  "nbformat_minor": 0,
  "metadata": {
    "colab": {
      "provenance": [],
      "authorship_tag": "ABX9TyNx/KB4gV2TxyOVL8hWscT7",
      "include_colab_link": true
    },
    "kernelspec": {
      "name": "python3",
      "display_name": "Python 3"
    },
    "language_info": {
      "name": "python"
    }
  },
  "cells": [
    {
      "cell_type": "markdown",
      "metadata": {
        "id": "view-in-github",
        "colab_type": "text"
      },
      "source": [
        "<a href=\"https://colab.research.google.com/github/alaaalshoaiby/alaa_home0/blob/main/alaa.ipynb\" target=\"_parent\"><img src=\"https://colab.research.google.com/assets/colab-badge.svg\" alt=\"Open In Colab\"/></a>"
      ]
    },
    {
      "cell_type": "code",
      "execution_count": 1,
      "metadata": {
        "id": "gKBDfnVQSa-a"
      },
      "outputs": [],
      "source": [
        "x=5\n",
        "y=5"
      ]
    },
    {
      "cell_type": "code",
      "source": [
        "z=10"
      ],
      "metadata": {
        "id": "r1VqunatSmsT"
      },
      "execution_count": 2,
      "outputs": []
    },
    {
      "cell_type": "code",
      "source": [],
      "metadata": {
        "id": "Ds7WHV4xS1Pa"
      },
      "execution_count": null,
      "outputs": []
    }
  ]
}